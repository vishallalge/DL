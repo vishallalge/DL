{
 "cells": [
  {
   "cell_type": "code",
   "execution_count": 24,
   "id": "c649366a-e7b1-426b-953d-e791ad270047",
   "metadata": {},
   "outputs": [],
   "source": [
    "#4.Use Autoencoder to implement anomaly detection. Build the model by using:\n",
    "#a. Import required libraries\n",
    "#b. Upload / access the dataset\n",
    "#c. Encoder converts it into latent representation\n",
    "#d. Decoder networks convert it back to the original input\n",
    "#e. Compile the models with Optimizer, Loss, and Evaluation Metrics"
   ]
  },
  {
   "cell_type": "code",
   "execution_count": 25,
   "id": "3d1cf377-a03a-4f3f-a8fa-d5469f640808",
   "metadata": {},
   "outputs": [],
   "source": [
    "#a. Import required libraries"
   ]
  },
  {
   "cell_type": "code",
   "execution_count": 26,
   "id": "23fac761-3b65-418e-be93-a58a1b506b55",
   "metadata": {},
   "outputs": [],
   "source": [
    "import numpy as np\n",
    "import pandas as pd\n",
    "import tensorflow as tf\n",
    "from sklearn.model_selection import train_test_split\n",
    "from sklearn.preprocessing import StandardScaler\n",
    "from sklearn.metrics import confusion_matrix, classification_report\n",
    "import matplotlib.pyplot as plt\n",
    "from tensorflow.keras import layers, models"
   ]
  },
  {
   "cell_type": "code",
   "execution_count": 22,
   "id": "48fdd056-f2ce-4256-909e-d40737aca0cb",
   "metadata": {},
   "outputs": [],
   "source": [
    "#b. Upload / access the dataset"
   ]
  },
  {
   "cell_type": "code",
   "execution_count": 3,
   "id": "d51d77a7-3c02-424d-95c6-2f5ebb7e931c",
   "metadata": {},
   "outputs": [],
   "source": [
    "dataset = pd.read_csv(\"creditcard.csv\")"
   ]
  },
  {
   "cell_type": "code",
   "execution_count": 4,
   "id": "93380dec-3245-4676-8f5c-754084357073",
   "metadata": {},
   "outputs": [],
   "source": [
    "# Preprocess the data (if needed)\n",
    "# You may need to normalize the data, handle missing values, etc.\n",
    "# For simplicity, we'll perform normalization in this example\n",
    "# Normalize the data to have a mean of 0 and a standard deviation of 1\n",
    "scaler = StandardScaler()\n",
    "X = scaler.fit_transform(dataset.drop(\"Class\", axis=1))\n",
    "y = dataset[\"Class\"]"
   ]
  },
  {
   "cell_type": "code",
   "execution_count": 5,
   "id": "47f64ec2-532b-407c-918f-da8dd97289dd",
   "metadata": {},
   "outputs": [],
   "source": [
    "# Split the dataset into training and testing sets\n",
    "X_train, X_test, y_train, y_test = train_test_split(X, y, test_size=0.2, random_state=42)"
   ]
  },
  {
   "cell_type": "code",
   "execution_count": 6,
   "id": "016c66c0-dd92-4dae-a8c2-199f44d10aa7",
   "metadata": {},
   "outputs": [],
   "source": [
    "# Build and train the Autoencoder model\n",
    "input_dim = X_train.shape[1]"
   ]
  },
  {
   "cell_type": "code",
   "execution_count": 20,
   "id": "287304cd-be28-410b-89a5-3ec7dd1aa329",
   "metadata": {},
   "outputs": [],
   "source": [
    "#c. Encoder converts it into latent representation"
   ]
  },
  {
   "cell_type": "code",
   "execution_count": 7,
   "id": "29742f45-2b8d-4076-829f-d887b8866110",
   "metadata": {},
   "outputs": [],
   "source": [
    "# Encoder\n",
    "encoder = models.Sequential([\n",
    "    layers.Input(shape=(input_dim,)),\n",
    "    layers.Dense(32, activation='relu'),\n",
    "    layers.Dense(16, activation='relu')\n",
    "])"
   ]
  },
  {
   "cell_type": "code",
   "execution_count": 19,
   "id": "4fb4cf04-8001-449c-9cd7-f02c06d9c8ab",
   "metadata": {},
   "outputs": [],
   "source": [
    "#d. Decoder networks convert it back to the original input"
   ]
  },
  {
   "cell_type": "code",
   "execution_count": 8,
   "id": "c52f4126-921e-4072-bbb3-2551cec449aa",
   "metadata": {},
   "outputs": [],
   "source": [
    "# Decoder\n",
    "decoder = models.Sequential([\n",
    "    layers.Input(shape=(16,)),\n",
    "    layers.Dense(32, activation='relu'),\n",
    "    layers.Dense(input_dim, activation='linear')  # Using 'linear' activation for reconstruction\n",
    "])\n",
    "\n",
    "# Autoencoder\n",
    "autoencoder = models.Sequential([\n",
    "    encoder,\n",
    "    decoder\n",
    "])"
   ]
  },
  {
   "cell_type": "code",
   "execution_count": 18,
   "id": "1087a614-5b6d-4605-89c0-a454060af377",
   "metadata": {},
   "outputs": [],
   "source": [
    "#e. Compile the models with Optimizer, Loss, and Evaluation Metrics"
   ]
  },
  {
   "cell_type": "code",
   "execution_count": 9,
   "id": "19d64259-cff3-48ec-a629-82bc1fab0920",
   "metadata": {},
   "outputs": [
    {
     "name": "stdout",
     "output_type": "stream",
     "text": [
      "Epoch 1/10\n",
      "\u001b[1m7121/7121\u001b[0m \u001b[32m━━━━━━━━━━━━━━━━━━━━\u001b[0m\u001b[37m\u001b[0m \u001b[1m18s\u001b[0m 2ms/step - loss: 0.4905 - val_loss: 0.1634\n",
      "Epoch 2/10\n",
      "\u001b[1m7121/7121\u001b[0m \u001b[32m━━━━━━━━━━━━━━━━━━━━\u001b[0m\u001b[37m\u001b[0m \u001b[1m17s\u001b[0m 2ms/step - loss: 0.1461 - val_loss: 0.1246\n",
      "Epoch 3/10\n",
      "\u001b[1m7121/7121\u001b[0m \u001b[32m━━━━━━━━━━━━━━━━━━━━\u001b[0m\u001b[37m\u001b[0m \u001b[1m17s\u001b[0m 2ms/step - loss: 0.0956 - val_loss: 0.0779\n",
      "Epoch 4/10\n",
      "\u001b[1m7121/7121\u001b[0m \u001b[32m━━━━━━━━━━━━━━━━━━━━\u001b[0m\u001b[37m\u001b[0m \u001b[1m16s\u001b[0m 2ms/step - loss: 0.0773 - val_loss: 0.0689\n",
      "Epoch 5/10\n",
      "\u001b[1m7121/7121\u001b[0m \u001b[32m━━━━━━━━━━━━━━━━━━━━\u001b[0m\u001b[37m\u001b[0m \u001b[1m15s\u001b[0m 2ms/step - loss: 0.0697 - val_loss: 0.0612\n",
      "Epoch 6/10\n",
      "\u001b[1m7121/7121\u001b[0m \u001b[32m━━━━━━━━━━━━━━━━━━━━\u001b[0m\u001b[37m\u001b[0m \u001b[1m20s\u001b[0m 2ms/step - loss: 0.0635 - val_loss: 0.0596\n",
      "Epoch 7/10\n",
      "\u001b[1m7121/7121\u001b[0m \u001b[32m━━━━━━━━━━━━━━━━━━━━\u001b[0m\u001b[37m\u001b[0m \u001b[1m15s\u001b[0m 2ms/step - loss: 0.0629 - val_loss: 0.0548\n",
      "Epoch 8/10\n",
      "\u001b[1m7121/7121\u001b[0m \u001b[32m━━━━━━━━━━━━━━━━━━━━\u001b[0m\u001b[37m\u001b[0m \u001b[1m15s\u001b[0m 2ms/step - loss: 0.0590 - val_loss: 0.0600\n",
      "Epoch 9/10\n",
      "\u001b[1m7121/7121\u001b[0m \u001b[32m━━━━━━━━━━━━━━━━━━━━\u001b[0m\u001b[37m\u001b[0m \u001b[1m21s\u001b[0m 2ms/step - loss: 0.0563 - val_loss: 0.0533\n",
      "Epoch 10/10\n",
      "\u001b[1m7121/7121\u001b[0m \u001b[32m━━━━━━━━━━━━━━━━━━━━\u001b[0m\u001b[37m\u001b[0m \u001b[1m15s\u001b[0m 2ms/step - loss: 0.0573 - val_loss: 0.0568\n"
     ]
    },
    {
     "data": {
      "text/plain": [
       "<keras.src.callbacks.history.History at 0x1ee62191d90>"
      ]
     },
     "execution_count": 9,
     "metadata": {},
     "output_type": "execute_result"
    }
   ],
   "source": [
    "autoencoder.compile(optimizer='adam', loss='mean_squared_error')\n",
    "autoencoder.fit(X_train, X_train, epochs=10, batch_size=32, shuffle=True, validation_data=(X_test, X_test))"
   ]
  },
  {
   "cell_type": "code",
   "execution_count": 10,
   "id": "cd4c6c1d-21cd-43c5-a1bf-42b81620ab41",
   "metadata": {},
   "outputs": [
    {
     "name": "stdout",
     "output_type": "stream",
     "text": [
      "\u001b[1m1781/1781\u001b[0m \u001b[32m━━━━━━━━━━━━━━━━━━━━\u001b[0m\u001b[37m\u001b[0m \u001b[1m3s\u001b[0m 2ms/step\n"
     ]
    }
   ],
   "source": [
    "# Detect anomalies and tune the threshold\n",
    "y_pred = autoencoder.predict(X_test)\n",
    "mse = np.mean(np.power(X_test - y_pred, 2), axis=1)"
   ]
  },
  {
   "cell_type": "code",
   "execution_count": 11,
   "id": "19129ddb-3f97-4083-bf8c-ba1b1fd2048f",
   "metadata": {},
   "outputs": [
    {
     "data": {
      "image/png": "[encoded data removed]",
      "text/plain": [
       "<Figure size 1000x600 with 1 Axes>"
      ]
     },
     "metadata": {},
     "output_type": "display_data"
    }
   ],
   "source": [
    "# Visualize the reconstruction error distribution\n",
    "plt.figure(figsize=(10, 6))\n",
    "plt.hist(mse, bins=50, alpha=0.5, color='b', label='Reconstruction Error')\n",
    "plt.xlabel(\"Reconstruction Error\")\n",
    "plt.ylabel(\"Frequency\")\n",
    "plt.legend()\n",
    "plt.title(\"Reconstruction Error Distribution\")\n",
    "plt.show()"
   ]
  },
  {
   "cell_type": "code",
   "execution_count": 12,
   "id": "44ebaa36-0cd8-436c-96c9-2ea53131a736",
   "metadata": {},
   "outputs": [],
   "source": [
    "# Threshold tuning (iterate and adjust as needed)\n",
    "thresholds = np.arange(0.1, 1.0, 0.1)  # Adjust the step size as needed\n",
    "\n",
    "for threshold in thresholds:\n",
    "    anomalies = mse > threshold"
   ]
  },
  {
   "cell_type": "code",
   "execution_count": 13,
   "id": "f8d6cea3-684d-4811-b360-65aace8e84d2",
   "metadata": {},
   "outputs": [
    {
     "name": "stdout",
     "output_type": "stream",
     "text": [
      "Threshold: 0.9, Number of anomalies: 291\n"
     ]
    }
   ],
   "source": [
    "# Count the number of anomalies\n",
    "num_anomalies = np.sum(anomalies)\n",
    "print(f\"Threshold: {threshold:.1f}, Number of anomalies: {num_anomalies}\")"
   ]
  },
  {
   "cell_type": "code",
   "execution_count": 14,
   "id": "7b81e11a-c814-4dbe-9cec-269ed14a18c7",
   "metadata": {},
   "outputs": [
    {
     "name": "stdout",
     "output_type": "stream",
     "text": [
      "Confusion Matrix:\n",
      "[[56617   247]\n",
      " [   54    44]]\n",
      "\n",
      "Classification Report:\n",
      "              precision    recall  f1-score   support\n",
      "\n",
      "           0       1.00      1.00      1.00     56864\n",
      "           1       0.15      0.45      0.23        98\n",
      "\n",
      "    accuracy                           0.99     56962\n",
      "   macro avg       0.58      0.72      0.61     56962\n",
      "weighted avg       1.00      0.99      1.00     56962\n",
      "\n"
     ]
    }
   ],
   "source": [
    "# Evaluate the model\n",
    "print(\"Confusion Matrix:\")\n",
    "print(confusion_matrix(y_test, anomalies))\n",
    "\n",
    "print(\"\\nClassification Report:\")\n",
    "print(classification_report(y_test, anomalies))"
   ]
  },
  {
   "cell_type": "code",
   "execution_count": 15,
   "id": "0d543866-522a-43ca-ae64-fe034a604457",
   "metadata": {},
   "outputs": [],
   "source": [
    "import seaborn as sns"
   ]
  },
  {
   "cell_type": "code",
   "execution_count": 16,
   "id": "cba4e16c-21da-4c11-991f-e9b18a5d18e4",
   "metadata": {},
   "outputs": [
    {
     "data": {
      "image/png": "[encoded data removed]",
      "text/plain": [
       "<Figure size 600x475 with 2 Axes>"
      ]
     },
     "metadata": {},
     "output_type": "display_data"
    }
   ],
   "source": [
    "plt.figure(figsize = (6, 4.75))\n",
    "sns.heatmap(confusion_matrix(y_test, anomalies), annot = True, annot_kws = {\"size\": 16}, fmt = 'd')\n",
    "plt.xticks([0.5, 1.5],  rotation = 'horizontal')\n",
    "plt.yticks([0.5, 1.5],  rotation = 'horizontal')\n",
    "plt.xlabel(\"Predicted label\", fontsize = 14)\n",
    "plt.ylabel(\"True label\", fontsize = 14)\n",
    "plt.title(\"Confusion Matrix\", fontsize = 14)\n",
    "plt.grid(False)\n",
    "plt.show()"
   ]
  },
  {
   "cell_type": "code",
   "execution_count": null,
   "id": "11fde6ed-5b9d-43e0-b857-01ef46e75281",
   "metadata": {},
   "outputs": [],
   "source": []
  }
 ],
 "metadata": {
  "kernelspec": {
   "display_name": "Python 3 (ipykernel)",
   "language": "python",
   "name": "python3"
  },
  "language_info": {
   "codemirror_mode": {
    "name": "ipython",
    "version": 3
   },
   "file_extension": ".py",
   "mimetype": "text/x-python",
   "name": "python",
   "nbconvert_exporter": "python",
   "pygments_lexer": "ipython3",
   "version": "3.12.0"
  }
 },
 "nbformat": 4,
 "nbformat_minor": 5
}
